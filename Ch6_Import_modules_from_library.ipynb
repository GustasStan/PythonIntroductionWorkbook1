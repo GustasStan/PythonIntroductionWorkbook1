{
 "cells": [
  {
   "cell_type": "markdown",
   "metadata": {},
   "source": [
    "## Import Modules from Library\n",
    "If you are going to create a simple game you require the program to automatically select a random number. This requires the use of the **random** module.\n",
    "\n",
    "```python\n",
    "import random \n",
    "x = random.randrange(100) \n",
    "print (x) \n",
    "```\n",
    "The **randrange(100)** selects any number from between 1 and 100, had it been (500) it will select any number between 1 and 500\n",
    "\n",
    "<p>**random.randint(8,15)** gives a random integer (number) between the two integers given.</p>\n",
    "\n",
    "e.g. \n",
    "```python\n",
    "x = random.randomint (1,10)\n",
    "print (x)\n",
    "```\n",
    "### Task 1: Random Sum\n",
    "Create a piece of code below that outputs a random sum:<br/>*(Hint: you need two random numbers as different variables)*\n"
   ]
  },
  {
   "cell_type": "code",
   "execution_count": 16,
   "metadata": {},
   "outputs": [
    {
     "name": "stdout",
     "output_type": "stream",
     "text": [
      "80\n"
     ]
    }
   ],
   "source": [
    "import random \n",
    "x = random.randrange(100) \n",
    "y = random.randrange(100)\n",
    "print (x+y)"
   ]
  },
  {
   "cell_type": "markdown",
   "metadata": {},
   "source": [
    "### Task 2: Guess the number game\n",
    "Using all the commands that you have learnt so far, create a game below!\n",
    "\n",
    "|Action|Hints|\n",
    "|:-----|:----|\n",
    "|Welcomes the user to the game \t|PRINT |\n",
    "|Picks a random number |\tRANDOM |\n",
    "|Asks the user to guess the number |\tINPUT |\n",
    "|If the number user number matches the random number state you win!| \tIF |\n",
    "|If the number the user number is higher than the random number state your number is too high |\tELIF |\n",
    "|If the user number is lower than the random number state your number is too low |\tELSE |\n",
    "|The program loops until the user guesses correctly| \tWHILE LOOP |\n",
    "\n",
    "**Extension**\n",
    "The user only gets 5 turns to guess the correct number, HINT you will need to use the break function to stop the program from running.\n",
    "\n",
    "Code your solution below:"
   ]
  },
  {
   "cell_type": "code",
   "execution_count": 3,
   "metadata": {
    "scrolled": true
   },
   "outputs": [
    {
     "name": "stdout",
     "output_type": "stream",
     "text": [
      "Guess a number: 50\n",
      "50 is too small\n",
      "Guess a number: 75\n",
      "75 is too big\n",
      "Guess a number: 60\n",
      "60 is too small\n",
      "Guess a number: 70\n",
      "70 is too big\n",
      "Guess a number: 65\n",
      "65 is too big\n",
      "Guess a number: 67\n",
      "The awser is 63\n"
     ]
    }
   ],
   "source": [
    "import random \n",
    "randomNum = random.randrange(100)\n",
    "user = int(input(\"Guess a number: \"))\n",
    "lives = 5\n",
    "while (randomNum != user) and lives != 0:\n",
    "    if user < randomNum:\n",
    "        print(\"%s is too small\"%(user))\n",
    "        lives -=1\n",
    "    elif user > randomNum:\n",
    "        print(\"%s is too big\"%(user))\n",
    "        lives -=1\n",
    "    user = int(input(\"Guess a number: \"))\n",
    "print (\"The awser is %s\"%(randomNum))"
   ]
  }
 ],
 "metadata": {
  "kernelspec": {
   "display_name": "Python 3",
   "language": "python",
   "name": "python3"
  },
  "language_info": {
   "codemirror_mode": {
    "name": "ipython",
    "version": 3
   },
   "file_extension": ".py",
   "mimetype": "text/x-python",
   "name": "python",
   "nbconvert_exporter": "python",
   "pygments_lexer": "ipython3",
   "version": "3.5.2"
  }
 },
 "nbformat": 4,
 "nbformat_minor": 2
}
