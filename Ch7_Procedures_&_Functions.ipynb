{
 "cells": [
  {
   "cell_type": "markdown",
   "metadata": {},
   "source": [
    "## Procedures & Functions\n",
    "\n",
    "### Whats the difference between functions and procedures?\n",
    "What is difference between a **PROCEDURE** and a **FUNCTION**?\n",
    "<br/>\n",
    "- **FUNCTION** - always returns a value using the return statement.        \n",
    "- **PROCEDURE** - may return one or more values through parameters or may not return at all.\n",
    "\n",
    "### Procedures\n",
    "If the same piece of code needs to be used several times we can use a loop - but only if those times are all together. If you need to run the same bit of code again later, you can use a procedure.\n",
    "<br/>\n",
    "#### A Simple Procedure\n",
    "In this example I want to print the squares of the numbers from 1 to 20:\n",
    "```python\n",
    "#This is a procedure called output\n",
    "\n",
    "#It will print a given number and its square \n",
    "def output(number):\n",
    "print(number,\"squared =\",number*number)\n",
    "\n",
    "\n",
    "#This is the start of the main program \n",
    "number = 1\n",
    "\n",
    "while number < 21: \n",
    "output(number) \n",
    "number = number + 1\n",
    "```\n",
    "<p>Here the top two lines are a procedure called *output*. The procedure expects to be given one variable (which it calls number) and will happily do its thing when told to.\n",
    "<p/>\n",
    "The main program is underneath, and the line that says *output(x)* will run the output procedure and give it the variable *x* to work with.\n",
    "\n",
    "### Task 1: \n",
    "Write a program below with a procedure that prints the cubes of the numbers from 1 to 50:"
   ]
  },
  {
   "cell_type": "code",
   "execution_count": null,
   "metadata": {},
   "outputs": [],
   "source": [
    "x = 1\n",
    "while x <= 50: \n",
    "    print (x,\"squared =\",x*x)\n",
    "    x +=1"
   ]
  },
  {
   "cell_type": "markdown",
   "metadata": {},
   "source": [
    "### Multiple Parameters\n",
    "A parameter is the variable (or variables) that get passed to the procedure. You can require more than one parameter: \n",
    "\n",
    "```python\n",
    "def output(number1,number2):\n",
    "    print(number1,\"+\",number2,\"=\",number1+number2)\n",
    "\n",
    "for counter in range(20): \n",
    "    number = counter**2 \n",
    "    output(counter,number)\n",
    "```\n",
    "You can pass as many parameters as you like to a procedure as long as you set it up correctly."
   ]
  },
  {
   "cell_type": "markdown",
   "metadata": {},
   "source": [
    "### Task 2: Explain the code\n",
    "<p>Run the program above and explain what each line of code is doing:\n",
    "<p/>\n",
    "```python\n",
    "def output(number1,number2): # makes a function with two peramiters\n",
    "    print(number1,\"+\",number2,\"=\",number1+number2) #adds two variables and prints them out \n",
    "\n",
    "for counter in range(20): # makes a loop form 1 to 20 \n",
    "    number = counter**2 # multipays the variable by it self\n",
    "    output(counter,number) #prints the awnser out\n",
    "```"
   ]
  },
  {
   "cell_type": "markdown",
   "metadata": {},
   "source": [
    "### Optional Parameters\n",
    "Once you have defined a procedure, you can call it in a number of ways:\n",
    "```python\n",
    "def output(grade,score=50,feedback=\"Well done!\"):\n",
    "    print(\"You scored\",score,\"which is a grade\",grade,feedback)\n",
    "\n",
    "\n",
    "output(\"C\")\n",
    "\n",
    "output(\"A\",87)\n",
    "\n",
    "output(\"E\",12,\"Rubbish!\")\n",
    "```\n",
    "You can pass as many (or few) of the parameters as you like - as long as they’re in the right order. This means you have to plan the procedure quite carefully."
   ]
  },
  {
   "cell_type": "markdown",
   "metadata": {},
   "source": [
    "### Task 3: Run program\n",
    "<p>Run the program above and explain what is output to screen:\n",
    "<p/>\n",
    "```python\n",
    "\n",
    "output(\"C\") # \"You scored 50 which is a grade C Well done!\"\n",
    "\n",
    "output(\"A\",87) # \"You scored 867 which is a grade A Well done!\"\n",
    "\n",
    "output(\"E\",12,\"Rubbish!\") # \"You scored 12 which is a grade E Rubbish!\"\n",
    "```"
   ]
  },
  {
   "cell_type": "markdown",
   "metadata": {},
   "source": [
    "### Functions\n",
    "So far our procedures have just printed an answer to the console. Sometimes a procedure will have to send some data back. This is called a *return*. Procedures that return something are called functions. In Python that isn’t a huge distinction, but in some programming languages it is very important.\n",
    "```python\n",
    "def calculate(number): \n",
    "    newnumber = number / 100 \n",
    "    return (newnumber)\n",
    "\n",
    "for counter in range(5,101,5): \n",
    "\tanswer = calculate(counter) \n",
    "    print(counter,\"% = \",answer)\n",
    "```\n",
    "The line *return(newnumber)* passes the value of the newnumber variable back to the main program.\n",
    "<br/>\n",
    "The line *y = caluclate(x)* shows that the main program expects a value to be returned and has somewhere to store it."
   ]
  },
  {
   "cell_type": "markdown",
   "metadata": {},
   "source": [
    "### Task 4: \n",
    "#### Part A\n",
    "Run the program above in the cell below:"
   ]
  },
  {
   "cell_type": "code",
   "execution_count": null,
   "metadata": {},
   "outputs": [],
   "source": [
    "def calculate(number): \n",
    "    newnumber = number / 100 \n",
    "    return (newnumber)\n",
    "\n",
    "for counter in range(5,101,5): \n",
    "    answer = calculate(counter) \n",
    "    print(counter,\"% = \",answer)"
   ]
  },
  {
   "cell_type": "markdown",
   "metadata": {},
   "source": [
    "#### Part B\n",
    "<p>Write down each variable in the program and explain the variable’s purpose:\n",
    "<p/>\n",
    "newnumber is number divided by 100, counter is a variable that chages form 5 to 100 in steps of 5, answer is valiu that is left after the fuction calculate"
   ]
  }
 ],
 "metadata": {
  "kernelspec": {
   "display_name": "Python 3",
   "language": "python",
   "name": "python3"
  },
  "language_info": {
   "codemirror_mode": {
    "name": "ipython",
    "version": 3
   },
   "file_extension": ".py",
   "mimetype": "text/x-python",
   "name": "python",
   "nbconvert_exporter": "python",
   "pygments_lexer": "ipython3",
   "version": "3.5.2"
  }
 },
 "nbformat": 4,
 "nbformat_minor": 2
}
