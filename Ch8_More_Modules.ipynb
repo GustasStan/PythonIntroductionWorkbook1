{
 "cells": [
  {
   "cell_type": "markdown",
   "metadata": {},
   "source": [
    "## More Modules\n",
    "<p>There are some procedures already built in to Python (print, for example). Modules (sometimes known as libraries in other languages) are collections of extra procedures and functions that are pre-written.\n",
    "<p/>\n",
    "Try this program first. It won’t work, but I’m trying to prove a point (sqrt is short for square root):\n",
    "```python\n",
    "number = 49\n",
    "answer = sqrt(49)\n",
    "print(answer)\n",
    "```"
   ]
  },
  {
   "cell_type": "code",
   "execution_count": 1,
   "metadata": {},
   "outputs": [
    {
     "ename": "NameError",
     "evalue": "name 'sqrt' is not defined",
     "output_type": "error",
     "traceback": [
      "\u001b[0;31m---------------------------------------------------------------------------\u001b[0m",
      "\u001b[0;31mNameError\u001b[0m                                 Traceback (most recent call last)",
      "\u001b[0;32m<ipython-input-1-608806d9e9f4>\u001b[0m in \u001b[0;36m<module>\u001b[0;34m()\u001b[0m\n\u001b[1;32m      1\u001b[0m \u001b[0mnumber\u001b[0m \u001b[0;34m=\u001b[0m \u001b[0;36m49\u001b[0m\u001b[0;34m\u001b[0m\u001b[0m\n\u001b[0;32m----> 2\u001b[0;31m \u001b[0manswer\u001b[0m \u001b[0;34m=\u001b[0m \u001b[0msqrt\u001b[0m\u001b[0;34m(\u001b[0m\u001b[0;36m49\u001b[0m\u001b[0;34m)\u001b[0m\u001b[0;34m\u001b[0m\u001b[0m\n\u001b[0m\u001b[1;32m      3\u001b[0m \u001b[0mprint\u001b[0m\u001b[0;34m(\u001b[0m\u001b[0manswer\u001b[0m\u001b[0;34m)\u001b[0m\u001b[0;34m\u001b[0m\u001b[0m\n",
      "\u001b[0;31mNameError\u001b[0m: name 'sqrt' is not defined"
     ]
    }
   ],
   "source": [
    "number = 49\n",
    "answer = sqrt(49)\n",
    "print(answer)"
   ]
  },
  {
   "cell_type": "markdown",
   "metadata": {},
   "source": [
    "Now try this one:\n",
    "```python\n",
    "import math\n",
    "number = 49\n",
    "answer = math.sqrt(49)\n",
    "print(answer)\n",
    "```\n",
    "You can find a list of modules at http://docs.python.org/py3k/modindex.html "
   ]
  },
  {
   "cell_type": "code",
   "execution_count": 2,
   "metadata": {},
   "outputs": [
    {
     "name": "stdout",
     "output_type": "stream",
     "text": [
      "7.0\n"
     ]
    }
   ],
   "source": [
    "import math\n",
    "number = 49\n",
    "answer = math.sqrt(49)\n",
    "print(answer)"
   ]
  },
  {
   "cell_type": "markdown",
   "metadata": {},
   "source": [
    "### Task 1: Import a module\n",
    "Go to the list of modules, import one and write a small program using a pre-written function or procedure. \n",
    "<br/>\n",
    "Write your program below:"
   ]
  },
  {
   "cell_type": "code",
   "execution_count": 2,
   "metadata": {},
   "outputs": [
    {
     "name": "stdout",
     "output_type": "stream",
     "text": [
      "9.695359714832659\n",
      "6.708203932499369\n",
      "9.0\n",
      "7.874007874011811\n",
      "6.928203230275509\n",
      "6.708203932499369\n",
      "8.717797887081348\n",
      "2.449489742783178\n",
      "6.48074069840786\n",
      "4.242640687119285\n"
     ]
    }
   ],
   "source": [
    "import random \n",
    "import math \n",
    "x = 10\n",
    "while x > 0:\n",
    "    print (math.sqrt(random.randrange(100)))\n",
    "    x -= 1"
   ]
  },
  {
   "cell_type": "code",
   "execution_count": null,
   "metadata": {},
   "outputs": [],
   "source": []
  }
 ],
 "metadata": {
  "kernelspec": {
   "display_name": "Python 3",
   "language": "python",
   "name": "python3"
  },
  "language_info": {
   "codemirror_mode": {
    "name": "ipython",
    "version": 3
   },
   "file_extension": ".py",
   "mimetype": "text/x-python",
   "name": "python",
   "nbconvert_exporter": "python",
   "pygments_lexer": "ipython3",
   "version": "3.5.2"
  }
 },
 "nbformat": 4,
 "nbformat_minor": 2
}
